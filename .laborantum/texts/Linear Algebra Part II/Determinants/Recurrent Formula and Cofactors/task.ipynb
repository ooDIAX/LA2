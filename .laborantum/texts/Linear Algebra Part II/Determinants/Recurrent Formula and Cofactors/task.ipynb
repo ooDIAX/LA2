{
 "cells": [
  {
   "cell_type": "code",
   "execution_count": 1,
   "metadata": {},
   "outputs": [],
   "source": [
    "import numpy as np\n",
    "import json_tricks"
   ]
  },
  {
   "cell_type": "code",
   "execution_count": null,
   "metadata": {},
   "outputs": [],
   "source": [
    "def cofactor_and_determinant(A):\n",
    "    A = np.array(A, dtype=np.float64)\n",
    "    n = A.shape[0]\n",
    "    cofactor_col = []\n",
    "    determinant = 0\n",
    "\n",
    "    for i in range(n):\n",
    "        minor = np.delete(np.delete(A, i, axis=0), 0, axis=1)\n",
    "        cofactor = ((-1) ** i) * np.linalg.det(minor)\n",
    "        cofactor_col.append(cofactor)\n",
    "        determinant += A[i, 0] * cofactor \n",
    "\n",
    "    cofactor_col = np.array(cofactor_col, dtype=np.float64) \n",
    "    cofactor_col = np.round(cofactor_col).astype(np.int64)\n",
    "    return cofactor_col, determinant\n",
    "\n",
    "A1 = np.array([[1, 2, 2, 2],\n",
    "            [1, 1, 2, 2],\n",
    "            [1, 1, 1, 2],\n",
    "            [1, 1, 1, 1]])\n",
    "\n",
    "A2 = np.array([[1, 2, 3, 4],\n",
    "            [1, 1, 2, 3],\n",
    "            [1, 1, 1, 2],\n",
    "            [1, 1, 1, 1]])\n",
    "\n",
    "cofactor_1, determinant_1 = cofactor_and_determinant(A1)\n",
    "cofactor_2, determinant_2 = cofactor_and_determinant(A2)\n",
    "\n",
    "cofactor_1 = cofactor_1.reshape((4, 1))\n",
    "cofactor_2 = cofactor_2.reshape((1, 4))\n",
    "\n",
    "answer = {\n",
    "    'task1': {\n",
    "        'C1': cofactor_1,\n",
    "        'det': determinant_1\n",
    "    },\n",
    "    'task2': {\n",
    "        'C1': cofactor_2,\n",
    "        'det': determinant_2\n",
    "    }\n",
    "}"
   ]
  },
  {
   "cell_type": "code",
   "execution_count": 3,
   "metadata": {},
   "outputs": [
    {
     "data": {
      "text/plain": [
       "'{\"task1\": {\"C1\": {\"__ndarray__\": [-1.0, -0.0, 0.0, 2.0], \"dtype\": \"float64\", \"shape\": [4]}, \"det\": 0.9999999999999998}, \"task2\": {\"C1\": {\"__ndarray__\": [1.0, -1.0, 0.0, -1.0], \"dtype\": \"float64\", \"shape\": [4]}, \"det\": -1.0}}'"
      ]
     },
     "execution_count": 3,
     "metadata": {},
     "output_type": "execute_result"
    }
   ],
   "source": [
    "json_tricks.dump(answer, '.answer.json')"
   ]
  }
 ],
 "metadata": {
  "kernelspec": {
   "display_name": "Python (Container)",
   "language": "python",
   "name": "container_env"
  },
  "language_info": {
   "codemirror_mode": {
    "name": "ipython",
    "version": 3
   },
   "file_extension": ".py",
   "mimetype": "text/x-python",
   "name": "python",
   "nbconvert_exporter": "python",
   "pygments_lexer": "ipython3",
   "version": "3.11.11"
  }
 },
 "nbformat": 4,
 "nbformat_minor": 2
}
