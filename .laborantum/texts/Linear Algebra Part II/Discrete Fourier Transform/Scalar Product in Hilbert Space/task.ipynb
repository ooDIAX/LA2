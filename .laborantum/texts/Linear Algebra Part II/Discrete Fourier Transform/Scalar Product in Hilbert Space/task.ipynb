{
 "cells": [
  {
   "cell_type": "code",
   "execution_count": 1,
   "metadata": {},
   "outputs": [],
   "source": [
    "import numpy as np\n",
    "import json_tricks"
   ]
  },
  {
   "cell_type": "code",
   "execution_count": 3,
   "metadata": {},
   "outputs": [
    {
     "data": {
      "text/plain": [
       "'{\"task1\": {\"||x||\": 0.5773502691896257, \"||x^2||\": 0.4472135954999579, \"<x, x^2>\": 0.25, \"cos\": 0.9682458365518544}, \"task2\": {\"||sin x||\": 1.7724538509055159, \"||cos x||\": 1.7724538509055163, \"<sin x, cos x>\": -1.684979962018936e-16, \"cos\": -5.363457799322154e-17}, \"task3\": {\"||exp x||\": 1.787324270932761, \"||sin x||\": 1.7724538509055159, \"<exp x, sin x>\": 12.070346316389633, \"cos\": 3.810144455749548}}'"
      ]
     },
     "execution_count": 3,
     "metadata": {},
     "output_type": "execute_result"
    }
   ],
   "source": [
    "from scipy.integrate import quad\n",
    "\n",
    "f1_x = lambda x: x\n",
    "f2_x2 = lambda x: x**2\n",
    "f3_sin = lambda x: np.sin(x)\n",
    "f4_cos = lambda x: np.cos(x)\n",
    "f5_exp = lambda x: np.exp(x)\n",
    "\n",
    "interval_0_1 = (0, 1)\n",
    "interval_sin_cos = (0, 2 * np.pi)\n",
    "interval_exp_sin = (0, np.pi)\n",
    "\n",
    "norm_f1_x = np.sqrt(quad(lambda x: x**2, *interval_0_1)[0])\n",
    "norm_f2_x2 = np.sqrt(quad(lambda x: x**4, *interval_0_1)[0])\n",
    "norm_f3_sin = np.sqrt(quad(lambda x: np.sin(x)**2, *interval_sin_cos)[0])\n",
    "norm_f4_cos = np.sqrt(quad(lambda x: np.cos(x)**2, *interval_sin_cos)[0])\n",
    "norm_f5_exp = np.sqrt(quad(lambda x: np.exp(x)**2, *interval_0_1)[0])\n",
    "\n",
    "scalar_f1_x_f2_x2 = quad(lambda x: x * x**2, *interval_0_1)[0]\n",
    "scalar_f3_sin_f4_cos = quad(lambda x: np.sin(x) * np.cos(x), *interval_sin_cos)[0]\n",
    "scalar_f5_exp_f3_sin = quad(lambda x: np.exp(x) * np.sin(x), *interval_exp_sin)[0]\n",
    "\n",
    "cos_f1_x_f2_x2 = scalar_f1_x_f2_x2 / (norm_f1_x * norm_f2_x2)\n",
    "cos_f3_sin_f4_cos = scalar_f3_sin_f4_cos / (norm_f3_sin * norm_f4_cos)\n",
    "cos_f5_exp_f3_sin = scalar_f5_exp_f3_sin / (norm_f5_exp * norm_f3_sin)\n",
    "\n",
    "answer = {\n",
    "    'task1': {\n",
    "        '||x||': float(norm_f1_x),\n",
    "        '||x^2||': float(norm_f2_x2),\n",
    "        '<x, x^2>': float(scalar_f1_x_f2_x2),\n",
    "        'cos': float(cos_f1_x_f2_x2),\n",
    "    },\n",
    "    'task2': {\n",
    "        '||sin x||': float(norm_f3_sin),\n",
    "        '||cos x||': float(norm_f4_cos),\n",
    "        '<sin x, cos x>': float(scalar_f3_sin_f4_cos),\n",
    "        'cos': float(cos_f3_sin_f4_cos),\n",
    "    },\n",
    "    'task3': {\n",
    "        '||exp x||': float(norm_f5_exp),\n",
    "        '||sin x||': float(norm_f3_sin),\n",
    "        '<exp x, sin x>': float(scalar_f5_exp_f3_sin),\n",
    "        'cos': float(cos_f5_exp_f3_sin),\n",
    "    },\n",
    "}\n",
    "\n",
    "json_tricks.dump(answer, '.answer.json')"
   ]
  }
 ],
 "metadata": {
  "kernelspec": {
   "display_name": "Python (Container)",
   "language": "python",
   "name": "container_env"
  },
  "language_info": {
   "codemirror_mode": {
    "name": "ipython",
    "version": 3
   },
   "file_extension": ".py",
   "mimetype": "text/x-python",
   "name": "python",
   "nbconvert_exporter": "python",
   "pygments_lexer": "ipython3",
   "version": "3.11.11"
  }
 },
 "nbformat": 4,
 "nbformat_minor": 2
}
