{
 "cells": [
  {
   "cell_type": "code",
   "execution_count": null,
   "metadata": {},
   "outputs": [],
   "source": [
    "import numpy as np\n",
    "import scipy as sp\n",
    "from scipy.io import wavfile\n",
    "import lovely_numpy as ln\n",
    "import matplotlib.pyplot as plt\n",
    "import json_tricks"
   ]
  },
  {
   "cell_type": "code",
   "execution_count": null,
   "metadata": {},
   "outputs": [],
   "source": [
    "sample_rate, data = wavfile.read('sample.wav')\n",
    "wavfile.write('original.wav', sample_rate, data)\n",
    "\n",
    "# data = data.mean(axis=1)"
   ]
  },
  {
   "cell_type": "code",
   "execution_count": null,
   "metadata": {},
   "outputs": [],
   "source": [
    "print(\"ORIGINAL DATA\")\n",
    "print(ln.lovely(data))\n",
    "\n",
    "data = data[:, 0] + data[:, 1] * 1.j\n",
    "wavfile.write('original.wav', sample_rate, np.array([data.real, data.imag]).T)"
   ]
  },
  {
   "cell_type": "code",
   "execution_count": null,
   "metadata": {},
   "outputs": [],
   "source": [
    "def compress(input, frequencies=1000):\n",
    "    # Apply Fourier transform to the input signal\n",
    "    spectrum = np.fft.fft(input)\n",
    "    \n",
    "    # Select the most significant frequencies based on the specified number\n",
    "    magnitude = np.abs(spectrum)\n",
    "    indices = np.argsort(magnitude)[::-1][:frequencies]\n",
    "    \n",
    "    # Zero out all frequencies except the most significant ones\n",
    "    compressed_spectrum = np.zeros_like(spectrum)\n",
    "    compressed_spectrum[indices] = spectrum[indices]\n",
    "    \n",
    "    return compressed_spectrum\n",
    "\n",
    "def decompress(input, data_len=191027):\n",
    "    # Apply inverse Fourier transform to reconstruct the signal\n",
    "    decompressed_signal = np.fft.ifft(input)\n",
    "    \n",
    "    # Return the real part of the decompressed signal\n",
    "    return decompressed_signal.real[:data_len]"
   ]
  },
  {
   "cell_type": "code",
   "execution_count": null,
   "metadata": {},
   "outputs": [],
   "source": [
    "compressed = compress(data, frequencies=20000)\n",
    "\n",
    "json_tricks.dump(compressed, '.answer.json')\n",
    "\n",
    "decompressed = decompress(compressed)\n",
    "\n",
    "print(ln.lovely(data))\n",
    "print(ln.lovely(decompressed))"
   ]
  },
  {
   "cell_type": "code",
   "execution_count": null,
   "metadata": {},
   "outputs": [],
   "source": [
    "plt.plot(data.real[:100])\n",
    "plt.plot(decompressed.real[:100])"
   ]
  },
  {
   "cell_type": "code",
   "execution_count": null,
   "metadata": {},
   "outputs": [],
   "source": [
    "wavfile.write('decompressed.wav', sample_rate, np.array([decompressed.real, decompressed.imag]).T.astype('int16'))"
   ]
  },
  {
   "cell_type": "code",
   "execution_count": null,
   "metadata": {},
   "outputs": [],
   "source": [
    "wavfile.write('original.wav', sample_rate, np.array([data.real, data.imag]).T.astype('int16'))"
   ]
  },
  {
   "cell_type": "code",
   "execution_count": null,
   "metadata": {},
   "outputs": [],
   "source": [
    "from IPython.display import Audio\n",
    "\n",
    "Audio(\"decompressed.wav\")"
   ]
  },
  {
   "cell_type": "code",
   "execution_count": null,
   "metadata": {},
   "outputs": [],
   "source": [
    "from IPython.display import Audio\n",
    "\n",
    "Audio(\"sample.wav\")"
   ]
  }
 ],
 "metadata": {
  "kernelspec": {
   "display_name": "Python 3",
   "language": "python",
   "name": "python3"
  },
  "language_info": {
   "codemirror_mode": {
    "name": "ipython",
    "version": 3
   },
   "file_extension": ".py",
   "mimetype": "text/x-python",
   "name": "python",
   "nbconvert_exporter": "python",
   "pygments_lexer": "ipython3",
   "version": "3.11.10"
  }
 },
 "nbformat": 4,
 "nbformat_minor": 2
}
