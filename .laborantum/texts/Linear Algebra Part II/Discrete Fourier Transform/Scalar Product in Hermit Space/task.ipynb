{
 "cells": [
  {
   "cell_type": "code",
   "execution_count": 5,
   "metadata": {},
   "outputs": [],
   "source": [
    "import numpy as np\n",
    "import json_tricks"
   ]
  },
  {
   "cell_type": "code",
   "execution_count": 7,
   "metadata": {},
   "outputs": [
    {
     "data": {
      "text/plain": [
       "'{\"task1\": {\"||u||\": {\"__complex__\": [3.7416573867739413, 0.0]}, \"||v||\": {\"__complex__\": [3.7416573867739413, 0.0]}, \"<u, v>\": {\"__complex__\": [6.0, 0.0]}, \"cos\": {\"__complex__\": [0.42857142857142855, 0.0]}}, \"task2\": {\"||u||\": {\"__complex__\": [3.7416573867739413, 0.0]}, \"||v||\": {\"__complex__\": [3.7416573867739413, 0.0]}, \"<u, v>\": {\"__complex__\": [6.0, 0.0]}, \"cos\": {\"__complex__\": [0.42857142857142855, 0.0]}}, \"task3\": {\"||u||\": {\"__complex__\": [3.0, 0.0]}, \"||v||\": {\"__complex__\": [1.7320508075688772, 0.0]}, \"<u, v>\": {\"__complex__\": [2.0, 3.0]}, \"cos\": {\"__complex__\": [0.3849001794597505, 0.5773502691896257]}}}'"
      ]
     },
     "execution_count": 7,
     "metadata": {},
     "output_type": "execute_result"
    }
   ],
   "source": [
    "u1 = np.array([1, 2, 3])\n",
    "v1 = np.array([1, -2, 3])\n",
    "\n",
    "u2 = np.array([1j, 2j, 3j])\n",
    "v2 = np.array([1j, -2j, 3j])\n",
    "\n",
    "u3 = np.array([1 + 1j, 1 - 1j, 1 + 2j])\n",
    "v3 = np.array([1j, 1j, 1j])\n",
    "\n",
    "def vector_norm(u):\n",
    "    return np.sqrt(np.sum(np.conjugate(u) * u))\n",
    "\n",
    "def scalar_product(u, v):\n",
    "    return np.sum(np.conjugate(u) * v)\n",
    "\n",
    "def cosine_similarity(u, v):\n",
    "    return scalar_product(u, v) / (vector_norm(u) * vector_norm(v))\n",
    "\n",
    "norm_u1 = vector_norm(u1)\n",
    "norm_v1 = vector_norm(v1)\n",
    "scalar_u1_v1 = scalar_product(u1, v1)\n",
    "cos_u1_v1 = cosine_similarity(u1, v1)\n",
    "\n",
    "norm_u2 = vector_norm(u2)\n",
    "norm_v2 = vector_norm(v2)\n",
    "scalar_u2_v2 = scalar_product(u2, v2)\n",
    "cos_u2_v2 = cosine_similarity(u2, v2)\n",
    "\n",
    "norm_u3 = vector_norm(u3)\n",
    "norm_v3 = vector_norm(v3)\n",
    "scalar_u3_v3 = scalar_product(u3, v3)\n",
    "cos_u3_v3 = cosine_similarity(u3, v3)\n",
    "\n",
    "answer = {\n",
    "    'task1': {\n",
    "        '||u||': complex(norm_u1),\n",
    "        '||v||': complex(norm_v1),\n",
    "        '<u, v>': complex(scalar_u1_v1),\n",
    "        'cos': complex(cos_u1_v1),\n",
    "    },\n",
    "    'task2': {\n",
    "        '||u||': complex(norm_u2),\n",
    "        '||v||': complex(norm_v2),\n",
    "        '<u, v>': complex(scalar_u2_v2),\n",
    "        'cos': complex(cos_u2_v2),\n",
    "    },\n",
    "    'task3': {\n",
    "        '||u||': complex(norm_u3),\n",
    "        '||v||': complex(norm_v3),\n",
    "        '<u, v>': complex(scalar_u3_v3),\n",
    "        'cos': complex(cos_u3_v3),\n",
    "    },\n",
    "}\n",
    "\n",
    "json_tricks.dump(answer, '.answer.json')"
   ]
  }
 ],
 "metadata": {
  "kernelspec": {
   "display_name": "Python (Container)",
   "language": "python",
   "name": "container_env"
  },
  "language_info": {
   "codemirror_mode": {
    "name": "ipython",
    "version": 3
   },
   "file_extension": ".py",
   "mimetype": "text/x-python",
   "name": "python",
   "nbconvert_exporter": "python",
   "pygments_lexer": "ipython3",
   "version": "3.11.11"
  }
 },
 "nbformat": 4,
 "nbformat_minor": 2
}
