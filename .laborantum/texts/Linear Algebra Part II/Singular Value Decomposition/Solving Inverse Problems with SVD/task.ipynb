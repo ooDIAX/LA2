{
 "cells": [
  {
   "cell_type": "code",
   "execution_count": null,
   "metadata": {},
   "outputs": [],
   "source": [
    "import numpy as np\n",
    "import json_tricks\n",
    "import matplotlib.pyplot as plt"
   ]
  },
  {
   "cell_type": "code",
   "execution_count": null,
   "metadata": {},
   "outputs": [],
   "source": [
    "### YOUR CODE HERE ###"
   ]
  },
  {
   "cell_type": "code",
   "execution_count": null,
   "metadata": {},
   "outputs": [],
   "source": [
    "def reconstruct(A, b):\n",
    "    U, s, VT = np.linalg.svd(A)\n",
    "    \n",
    "    # Reconstruct the inverse of the diagonal matrix S\n",
    "    S_inv = np.zeros_like(A.T)\n",
    "    for i in range(min(len(s), A.shape[1])):\n",
    "        S_inv[i, i] = 1 / s[i] if s[i] != 0 else 0\n",
    "    \n",
    "    # Reconstruct x using the formula\n",
    "    x = VT.T @ S_inv @ U.T @ b\n",
    "    \n",
    "    # Create the images of the reconstructed vector for each of the first 16 singular vectors\n",
    "    results = []\n",
    "    for i in range(16):\n",
    "        fig, ax = plt.subplots()\n",
    "        ax.imshow(x[i].reshape(16, 16), cmap='gray')\n",
    "        ax.set_title(f\"Reconstructed Image for Singular Vector {i+1}\")\n",
    "        ax.axis('off')\n",
    "        results.append(fig)\n",
    "    \n",
    "    return results, U, s, VT\n",
    "\n"
   ]
  },
  {
   "cell_type": "code",
   "execution_count": null,
   "metadata": {},
   "outputs": [],
   "source": [
    "inputs = json_tricks.load('.inputs.json')\n",
    "\n",
    "# print(inputs)\n",
    "\n",
    "x_rec, U, s, VT = reconstruct(**inputs)\n",
    "\n",
    "json_tricks.dump(x_rec, '.answer.json')"
   ]
  },
  {
   "cell_type": "code",
   "execution_count": null,
   "metadata": {},
   "outputs": [],
   "source": [
    "# Visualization of rays\n",
    "plt.imshow(A[20, :].reshape([20, 20]))"
   ]
  },
  {
   "cell_type": "code",
   "execution_count": null,
   "metadata": {},
   "outputs": [],
   "source": [
    "results = []\n",
    "for index in range(len(x_rec)):\n",
    "    results.append(x_rec[index].reshape([20, 20]))\n",
    "\n",
    "results_2 = []\n",
    "for index in range(5):\n",
    "    results_2.append(np.concatenate(results[index::5], axis=0))\n",
    "\n",
    "results = np.concatenate(results_2, axis=1)\n",
    "results = (results - results.min()) / (results.max() - results.min()) * 255\n",
    "\n",
    "import PIL\n",
    "PIL.Image.fromarray(results.astype(\"uint8\")).resize([512, 512])\n"
   ]
  },
  {
   "cell_type": "code",
   "execution_count": null,
   "metadata": {},
   "outputs": [],
   "source": [
    "right_hand_vectors = VT\n",
    "\n",
    "results = []\n",
    "for index in range(0, VT.shape[1]):\n",
    "    results.append(VT[index, :].reshape([20, 20]))\n",
    "\n",
    "results_2 = []\n",
    "for index in range(20):\n",
    "    results_2.append(np.concatenate(results[index::20], axis=0))\n",
    "\n",
    "results = np.concatenate(results_2, axis=1)\n",
    "results = (results - results.min()) / (results.max() - results.min()) * 255\n",
    "\n",
    "import PIL\n",
    "PIL.Image.fromarray(results.astype(\"uint8\")).resize([512, 512])"
   ]
  },
  {
   "cell_type": "code",
   "execution_count": null,
   "metadata": {},
   "outputs": [],
   "source": [
    "## YOUR EXPERIMENTS HERE"
   ]
  }
 ],
 "metadata": {
  "kernelspec": {
   "display_name": "Python 3",
   "language": "python",
   "name": "python3"
  },
  "language_info": {
   "codemirror_mode": {
    "name": "ipython",
    "version": 3
   },
   "file_extension": ".py",
   "mimetype": "text/x-python",
   "name": "python",
   "nbconvert_exporter": "python",
   "pygments_lexer": "ipython3",
   "version": "3.11.10"
  }
 },
 "nbformat": 4,
 "nbformat_minor": 2
}
